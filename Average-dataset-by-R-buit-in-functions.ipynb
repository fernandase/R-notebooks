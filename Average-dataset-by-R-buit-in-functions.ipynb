{
 "cells": [
  {
   "cell_type": "markdown",
   "metadata": {},
   "source": [
    "<h1 style=\"color:slateblue;font-family:courier;\">Different ways and time required to calculate mean of a dataset with R buit-in functions</h1>"
   ]
  },
  {
   "cell_type": "code",
   "execution_count": 8,
   "metadata": {},
   "outputs": [],
   "source": [
    "mean.by.column = function(X){\n",
    "    v.mean = c()\n",
    "    for (i in 1:ncol(X)){\n",
    "        v.mean[i] = mean(X[, i])\n",
    "    }\n",
    "    names(v.mean) = names(X)\n",
    "    v.mean\n",
    "}"
   ]
  },
  {
   "cell_type": "code",
   "execution_count": 9,
   "metadata": {},
   "outputs": [],
   "source": [
    "mean.by.sum.nrow = function(X){\n",
    "    v.mean = c()\n",
    "    for (i in 1:ncol(X)){\n",
    "        v.mean[i] = sum(X[, i])/nrow(X)\n",
    "    }\n",
    "    names(v.mean) = names(X)\n",
    "    v.mean\n",
    "}"
   ]
  },
  {
   "cell_type": "markdown",
   "metadata": {},
   "source": [
    "<h2 style=\"color:slateblue;font-family:courier;\">Time required to compute each function</h2>"
   ]
  },
  {
   "cell_type": "markdown",
   "metadata": {},
   "source": [
    "<h3 style=\"color:slateblue;font-family:courier;\">Using the rbenchmark package</h3>"
   ]
  },
  {
   "cell_type": "code",
   "execution_count": 10,
   "metadata": {},
   "outputs": [],
   "source": [
    "#install.packages(\"rbenchmark\")\n",
    "library(rbenchmark)"
   ]
  },
  {
   "cell_type": "code",
   "execution_count": 13,
   "metadata": {},
   "outputs": [],
   "source": [
    "time_required = function(X){\n",
    "    out = list()\n",
    "    time = benchmark(\"colMeans\" = {\n",
    "            out$colmeans = colMeans(X)\n",
    "          },\n",
    "          \"colSums/nrow\" = {\n",
    "            out$colsums = colSums(X)/nrow(X)\n",
    "          },\n",
    "          \"apply\" = {\n",
    "            out$apply = apply(X, 2, mean)\n",
    "          },\n",
    "          \"mean.by.column\" = {\n",
    "            out$mean1 = mean.by.column(X)\n",
    "          },\n",
    "          \"mean.by.sum.nrow\" = {\n",
    "            out$mean2 = mean.by.sum.nrow(X)\n",
    "          },\n",
    "          replications = 1000,\n",
    "          columns = c(\"test\", \"replications\", \"elapsed\",\n",
    "                      \"relative\", \"user.self\", \"sys.self\"))\n",
    "    out$time = time[order(time$elapsed), ]\n",
    "    out\n",
    "}    "
   ]
  },
  {
   "cell_type": "code",
   "execution_count": 14,
   "metadata": {},
   "outputs": [
    {
     "data": {
      "text/html": [
       "<table>\n",
       "<thead><tr><th></th><th scope=col>test</th><th scope=col>replications</th><th scope=col>elapsed</th><th scope=col>relative</th><th scope=col>user.self</th><th scope=col>sys.self</th></tr></thead>\n",
       "<tbody>\n",
       "\t<tr><th scope=row>4</th><td>mean.by.column  </td><td>1000            </td><td>0.11            </td><td>1.000           </td><td>0.11            </td><td>0.00            </td></tr>\n",
       "\t<tr><th scope=row>5</th><td>mean.by.sum.nrow</td><td>1000            </td><td>0.14            </td><td>1.273           </td><td>0.14            </td><td>0.00            </td></tr>\n",
       "\t<tr><th scope=row>3</th><td>apply           </td><td>1000            </td><td>0.22            </td><td>2.000           </td><td>0.21            </td><td>0.01            </td></tr>\n",
       "\t<tr><th scope=row>2</th><td>colSums/nrow    </td><td>1000            </td><td>0.25            </td><td>2.273           </td><td>0.25            </td><td>0.00            </td></tr>\n",
       "\t<tr><th scope=row>1</th><td>colMeans        </td><td>1000            </td><td>0.29            </td><td>2.636           </td><td>0.29            </td><td>0.00            </td></tr>\n",
       "</tbody>\n",
       "</table>\n"
      ],
      "text/latex": [
       "\\begin{tabular}{r|llllll}\n",
       "  & test & replications & elapsed & relative & user.self & sys.self\\\\\n",
       "\\hline\n",
       "\t4 & mean.by.column   & 1000             & 0.11             & 1.000            & 0.11             & 0.00            \\\\\n",
       "\t5 & mean.by.sum.nrow & 1000             & 0.14             & 1.273            & 0.14             & 0.00            \\\\\n",
       "\t3 & apply            & 1000             & 0.22             & 2.000            & 0.21             & 0.01            \\\\\n",
       "\t2 & colSums/nrow     & 1000             & 0.25             & 2.273            & 0.25             & 0.00            \\\\\n",
       "\t1 & colMeans         & 1000             & 0.29             & 2.636            & 0.29             & 0.00            \\\\\n",
       "\\end{tabular}\n"
      ],
      "text/markdown": [
       "\n",
       "| <!--/--> | test | replications | elapsed | relative | user.self | sys.self |\n",
       "|---|---|---|---|---|---|---|\n",
       "| 4 | mean.by.column   | 1000             | 0.11             | 1.000            | 0.11             | 0.00             |\n",
       "| 5 | mean.by.sum.nrow | 1000             | 0.14             | 1.273            | 0.14             | 0.00             |\n",
       "| 3 | apply            | 1000             | 0.22             | 2.000            | 0.21             | 0.01             |\n",
       "| 2 | colSums/nrow     | 1000             | 0.25             | 2.273            | 0.25             | 0.00             |\n",
       "| 1 | colMeans         | 1000             | 0.29             | 2.636            | 0.29             | 0.00             |\n",
       "\n"
      ],
      "text/plain": [
       "  test             replications elapsed relative user.self sys.self\n",
       "4 mean.by.column   1000         0.11    1.000    0.11      0.00    \n",
       "5 mean.by.sum.nrow 1000         0.14    1.273    0.14      0.00    \n",
       "3 apply            1000         0.22    2.000    0.21      0.01    \n",
       "2 colSums/nrow     1000         0.25    2.273    0.25      0.00    \n",
       "1 colMeans         1000         0.29    2.636    0.29      0.00    "
      ]
     },
     "metadata": {},
     "output_type": "display_data"
    }
   ],
   "source": [
    "result = time_required(iris[, -5])\n",
    "result$time"
   ]
  },
  {
   "cell_type": "code",
   "execution_count": 17,
   "metadata": {},
   "outputs": [],
   "source": [
    "wine.uci = read.csv(\"https://archive.ics.uci.edu/ml/machine-learning-databases/wine/wine.data\", header = FALSE)"
   ]
  },
  {
   "cell_type": "code",
   "execution_count": 18,
   "metadata": {},
   "outputs": [
    {
     "data": {
      "text/html": [
       "<table>\n",
       "<thead><tr><th></th><th scope=col>test</th><th scope=col>replications</th><th scope=col>elapsed</th><th scope=col>relative</th><th scope=col>user.self</th><th scope=col>sys.self</th></tr></thead>\n",
       "<tbody>\n",
       "\t<tr><th scope=row>2</th><td>colSums/nrow    </td><td>1000            </td><td>0.28            </td><td>1.000           </td><td>0.28            </td><td>0.00            </td></tr>\n",
       "\t<tr><th scope=row>5</th><td>mean.by.sum.nrow</td><td>1000            </td><td>0.29            </td><td>1.036           </td><td>0.30            </td><td>0.00            </td></tr>\n",
       "\t<tr><th scope=row>4</th><td>mean.by.column  </td><td>1000            </td><td>0.38            </td><td>1.357           </td><td>0.38            </td><td>0.00            </td></tr>\n",
       "\t<tr><th scope=row>1</th><td>colMeans        </td><td>1000            </td><td>0.41            </td><td>1.464           </td><td>0.41            </td><td>0.00            </td></tr>\n",
       "\t<tr><th scope=row>3</th><td>apply           </td><td>1000            </td><td>0.53            </td><td>1.893           </td><td>0.52            </td><td>0.01            </td></tr>\n",
       "</tbody>\n",
       "</table>\n"
      ],
      "text/latex": [
       "\\begin{tabular}{r|llllll}\n",
       "  & test & replications & elapsed & relative & user.self & sys.self\\\\\n",
       "\\hline\n",
       "\t2 & colSums/nrow     & 1000             & 0.28             & 1.000            & 0.28             & 0.00            \\\\\n",
       "\t5 & mean.by.sum.nrow & 1000             & 0.29             & 1.036            & 0.30             & 0.00            \\\\\n",
       "\t4 & mean.by.column   & 1000             & 0.38             & 1.357            & 0.38             & 0.00            \\\\\n",
       "\t1 & colMeans         & 1000             & 0.41             & 1.464            & 0.41             & 0.00            \\\\\n",
       "\t3 & apply            & 1000             & 0.53             & 1.893            & 0.52             & 0.01            \\\\\n",
       "\\end{tabular}\n"
      ],
      "text/markdown": [
       "\n",
       "| <!--/--> | test | replications | elapsed | relative | user.self | sys.self |\n",
       "|---|---|---|---|---|---|---|\n",
       "| 2 | colSums/nrow     | 1000             | 0.28             | 1.000            | 0.28             | 0.00             |\n",
       "| 5 | mean.by.sum.nrow | 1000             | 0.29             | 1.036            | 0.30             | 0.00             |\n",
       "| 4 | mean.by.column   | 1000             | 0.38             | 1.357            | 0.38             | 0.00             |\n",
       "| 1 | colMeans         | 1000             | 0.41             | 1.464            | 0.41             | 0.00             |\n",
       "| 3 | apply            | 1000             | 0.53             | 1.893            | 0.52             | 0.01             |\n",
       "\n"
      ],
      "text/plain": [
       "  test             replications elapsed relative user.self sys.self\n",
       "2 colSums/nrow     1000         0.28    1.000    0.28      0.00    \n",
       "5 mean.by.sum.nrow 1000         0.29    1.036    0.30      0.00    \n",
       "4 mean.by.column   1000         0.38    1.357    0.38      0.00    \n",
       "1 colMeans         1000         0.41    1.464    0.41      0.00    \n",
       "3 apply            1000         0.53    1.893    0.52      0.01    "
      ]
     },
     "metadata": {},
     "output_type": "display_data"
    }
   ],
   "source": [
    "time_required(wine.uci[, -1])$time"
   ]
  },
  {
   "cell_type": "code",
   "execution_count": 19,
   "metadata": {},
   "outputs": [],
   "source": [
    "breast.cancer.uci = read.csv(\"https://archive.ics.uci.edu/ml/machine-learning-databases/breast-cancer-wisconsin/wdbc.data\",\n",
    "              header = FALSE)"
   ]
  },
  {
   "cell_type": "code",
   "execution_count": 20,
   "metadata": {},
   "outputs": [
    {
     "data": {
      "text/html": [
       "<table>\n",
       "<thead><tr><th></th><th scope=col>test</th><th scope=col>replications</th><th scope=col>elapsed</th><th scope=col>relative</th><th scope=col>user.self</th><th scope=col>sys.self</th></tr></thead>\n",
       "<tbody>\n",
       "\t<tr><th scope=row>2</th><td>colSums/nrow    </td><td>1000            </td><td>0.57            </td><td>1.000           </td><td>0.56            </td><td>0.00            </td></tr>\n",
       "\t<tr><th scope=row>5</th><td>mean.by.sum.nrow</td><td>1000            </td><td>0.73            </td><td>1.281           </td><td>0.72            </td><td>0.00            </td></tr>\n",
       "\t<tr><th scope=row>1</th><td>colMeans        </td><td>1000            </td><td>0.75            </td><td>1.316           </td><td>0.69            </td><td>0.05            </td></tr>\n",
       "\t<tr><th scope=row>4</th><td>mean.by.column  </td><td>1000            </td><td>1.01            </td><td>1.772           </td><td>0.99            </td><td>0.00            </td></tr>\n",
       "\t<tr><th scope=row>3</th><td>apply           </td><td>1000            </td><td>1.25            </td><td>2.193           </td><td>1.20            </td><td>0.01            </td></tr>\n",
       "</tbody>\n",
       "</table>\n"
      ],
      "text/latex": [
       "\\begin{tabular}{r|llllll}\n",
       "  & test & replications & elapsed & relative & user.self & sys.self\\\\\n",
       "\\hline\n",
       "\t2 & colSums/nrow     & 1000             & 0.57             & 1.000            & 0.56             & 0.00            \\\\\n",
       "\t5 & mean.by.sum.nrow & 1000             & 0.73             & 1.281            & 0.72             & 0.00            \\\\\n",
       "\t1 & colMeans         & 1000             & 0.75             & 1.316            & 0.69             & 0.05            \\\\\n",
       "\t4 & mean.by.column   & 1000             & 1.01             & 1.772            & 0.99             & 0.00            \\\\\n",
       "\t3 & apply            & 1000             & 1.25             & 2.193            & 1.20             & 0.01            \\\\\n",
       "\\end{tabular}\n"
      ],
      "text/markdown": [
       "\n",
       "| <!--/--> | test | replications | elapsed | relative | user.self | sys.self |\n",
       "|---|---|---|---|---|---|---|\n",
       "| 2 | colSums/nrow     | 1000             | 0.57             | 1.000            | 0.56             | 0.00             |\n",
       "| 5 | mean.by.sum.nrow | 1000             | 0.73             | 1.281            | 0.72             | 0.00             |\n",
       "| 1 | colMeans         | 1000             | 0.75             | 1.316            | 0.69             | 0.05             |\n",
       "| 4 | mean.by.column   | 1000             | 1.01             | 1.772            | 0.99             | 0.00             |\n",
       "| 3 | apply            | 1000             | 1.25             | 2.193            | 1.20             | 0.01             |\n",
       "\n"
      ],
      "text/plain": [
       "  test             replications elapsed relative user.self sys.self\n",
       "2 colSums/nrow     1000         0.57    1.000    0.56      0.00    \n",
       "5 mean.by.sum.nrow 1000         0.73    1.281    0.72      0.00    \n",
       "1 colMeans         1000         0.75    1.316    0.69      0.05    \n",
       "4 mean.by.column   1000         1.01    1.772    0.99      0.00    \n",
       "3 apply            1000         1.25    2.193    1.20      0.01    "
      ]
     },
     "metadata": {},
     "output_type": "display_data"
    }
   ],
   "source": [
    "time_required(breast.cancer.uci[,-2])$time"
   ]
  },
  {
   "cell_type": "markdown",
   "metadata": {},
   "source": [
    "<h2 style=\"color:slateblue;font-family:courier;\">Considerations:</h2>\n",
    "\n",
    "<ul style=\"font-size:20px;font-family:courier;\">\n",
    "  <li>The function <b>mean.by.column</b> that calculates the mean of each column inside a <i>for</i> was faster than using the <b>apply</b> function.</li>\n",
    "    <li>The functions <b>mean.by.sum.nrow</b> and <b>colSums/nrow</b> were faster than the <b>colMeans</b> function.</li>\n",
    "</ul> "
   ]
  }
 ],
 "metadata": {
  "kernelspec": {
   "display_name": "R",
   "language": "R",
   "name": "ir"
  },
  "language_info": {
   "codemirror_mode": "r",
   "file_extension": ".r",
   "mimetype": "text/x-r-source",
   "name": "R",
   "pygments_lexer": "r",
   "version": "3.6.1"
  }
 },
 "nbformat": 4,
 "nbformat_minor": 4
}
