{
 "cells": [
  {
   "cell_type": "markdown",
   "metadata": {},
   "source": [
    "<h1 style=\"color:slateblue;font-family:courier;\">Web Scraping da Plataforma Sucupira dos Trabalhos de Conclusão Pós-Graduação</h1>\n",
    "\n",
    "<h2 style=\"color:slateblue;font-family:courier;\">Preenchendo formulário:</h2>\n",
    "\n",
    "<ul style=\"font-size:20px;font-family:courier;\">\n",
    "    <li>Anos: <b>2017 a 2020</b>;</li>\n",
    "    <li>Instituição de Ensino Superior: <b>UNIVERSIDADE FEDERAL DA BAHIA (UFBA)</b>;</li>\n",
    "    <li>Programa: <b>Ciência da Computação (28001010095P3)</b>.</li>   \n",
    "</ul> "
   ]
  },
  {
   "cell_type": "code",
   "execution_count": 1,
   "metadata": {},
   "outputs": [],
   "source": [
    "library(RSelenium)"
   ]
  },
  {
   "cell_type": "code",
   "execution_count": 2,
   "metadata": {},
   "outputs": [],
   "source": [
    "url = 'https://sucupira.capes.gov.br/sucupira/public/consultas/coleta/trabalhoConclusao/listaTrabalhoConclusao.xhtml'"
   ]
  },
  {
   "cell_type": "code",
   "execution_count": 3,
   "metadata": {},
   "outputs": [
    {
     "name": "stderr",
     "output_type": "stream",
     "text": [
      "checking Selenium Server versions:\n",
      "\n",
      "BEGIN: PREDOWNLOAD\n",
      "\n",
      "BEGIN: DOWNLOAD\n",
      "\n",
      "BEGIN: POSTDOWNLOAD\n",
      "\n",
      "checking chromedriver versions:\n",
      "\n",
      "BEGIN: PREDOWNLOAD\n",
      "\n",
      "BEGIN: DOWNLOAD\n",
      "\n",
      "BEGIN: POSTDOWNLOAD\n",
      "\n"
     ]
    },
    {
     "name": "stdout",
     "output_type": "stream",
     "text": [
      "[1] \"Connecting to remote server\"\n",
      "$acceptInsecureCerts\n",
      "[1] FALSE\n",
      "\n",
      "$browserName\n",
      "[1] \"chrome\"\n",
      "\n",
      "$browserVersion\n",
      "[1] \"85.0.4183.83\"\n",
      "\n",
      "$chrome\n",
      "$chrome$chromedriverVersion\n",
      "[1] \"85.0.4183.83 (94abc2237ae0c9a4cb5f035431c8adfb94324633-refs/branch-heads/4183@{#1658})\"\n",
      "\n",
      "$chrome$userDataDir\n",
      "[1] \"C:\\\\Users\\\\fe-na\\\\AppData\\\\Local\\\\Temp\\\\scoped_dir22232_1547370323\"\n",
      "\n",
      "\n",
      "$`goog:chromeOptions`\n",
      "$`goog:chromeOptions`$debuggerAddress\n",
      "[1] \"localhost:54016\"\n",
      "\n",
      "\n",
      "$networkConnectionEnabled\n",
      "[1] FALSE\n",
      "\n",
      "$pageLoadStrategy\n",
      "[1] \"normal\"\n",
      "\n",
      "$platformName\n",
      "[1] \"windows\"\n",
      "\n",
      "$proxy\n",
      "named list()\n",
      "\n",
      "$setWindowRect\n",
      "[1] TRUE\n",
      "\n",
      "$strictFileInteractability\n",
      "[1] FALSE\n",
      "\n",
      "$timeouts\n",
      "$timeouts$implicit\n",
      "[1] 0\n",
      "\n",
      "$timeouts$pageLoad\n",
      "[1] 300000\n",
      "\n",
      "$timeouts$script\n",
      "[1] 30000\n",
      "\n",
      "\n",
      "$unhandledPromptBehavior\n",
      "[1] \"dismiss and notify\"\n",
      "\n",
      "$`webauthn:virtualAuthenticators`\n",
      "[1] TRUE\n",
      "\n",
      "$webdriver.remote.sessionid\n",
      "[1] \"40c1cbcdef50977462713bdfad2728d4\"\n",
      "\n",
      "$id\n",
      "[1] \"40c1cbcdef50977462713bdfad2728d4\"\n",
      "\n"
     ]
    }
   ],
   "source": [
    "# start a chrome browser\n",
    "rD = rsDriver(browser = \"chrome\", port = 4444L, geckover = NULL, \n",
    "               chromever =  \"85.0.4183.83\", iedrver = NULL, phantomver = NULL)"
   ]
  },
  {
   "cell_type": "code",
   "execution_count": 4,
   "metadata": {},
   "outputs": [],
   "source": [
    "remDr = rD$client \n",
    "remDr$navigate(url)"
   ]
  },
  {
   "cell_type": "code",
   "execution_count": 5,
   "metadata": {},
   "outputs": [
    {
     "name": "stderr",
     "output_type": "stream",
     "text": [
      "\n",
      "Attaching package: 'lubridate'\n",
      "\n",
      "\n",
      "The following objects are masked from 'package:base':\n",
      "\n",
      "    date, intersect, setdiff, union\n",
      "\n",
      "\n"
     ]
    }
   ],
   "source": [
    "source('web-scraping-rselenium.R')"
   ]
  },
  {
   "cell_type": "code",
   "execution_count": null,
   "metadata": {},
   "outputs": [],
   "source": [
    "#Funcao gera.dataset implementada no arquivo web-scraping-rselenium.R\n",
    "dados.pgcomp.chrome = gera.dataset()"
   ]
  },
  {
   "cell_type": "markdown",
   "metadata": {},
   "source": [
    "<h2 style=\"color:slateblue;font-family:courier;\">Tables HTML convertidas em um único data.frame resultante das consultas realizadas:</h2>"
   ]
  },
  {
   "cell_type": "code",
   "execution_count": null,
   "metadata": {},
   "outputs": [],
   "source": [
    "head(dados.pgcomp.chrome)"
   ]
  },
  {
   "cell_type": "code",
   "execution_count": null,
   "metadata": {},
   "outputs": [],
   "source": [
    "# stop the selenium server\n",
    "rD$server$stop()"
   ]
  }
 ],
 "metadata": {
  "kernelspec": {
   "display_name": "R",
   "language": "R",
   "name": "ir"
  },
  "language_info": {
   "codemirror_mode": "r",
   "file_extension": ".r",
   "mimetype": "text/x-r-source",
   "name": "R",
   "pygments_lexer": "r",
   "version": "4.0.2"
  }
 },
 "nbformat": 4,
 "nbformat_minor": 4
}
