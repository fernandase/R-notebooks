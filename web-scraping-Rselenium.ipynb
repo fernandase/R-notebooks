{
 "cells": [
  {
   "cell_type": "markdown",
   "metadata": {},
   "source": [
    "<h1 style=\"color:slateblue;font-family:courier;\">Web Scraping da Plataforma Sucupira dos Trabalhos de Conclusão Pós-Graduação</h1>\n",
    "\n",
    "<h2 style=\"color:slateblue;font-family:courier;\">Preenchendo formulário:</h2>\n",
    "\n",
    "<ul style=\"font-size:20px;font-family:courier;\">\n",
    "    <li>Anos: <b>2017 a 2020</b>;</li>\n",
    "    <li>Instituição de Ensino Superior: <b>UNIVERSIDADE FEDERAL DA BAHIA (UFBA)</b>;</li>\n",
    "    <li>Programa: <b>Ciência da Computação (28001010095P3)</b>.</li>   \n",
    "</ul> "
   ]
  },
  {
   "cell_type": "code",
   "execution_count": 1,
   "metadata": {},
   "outputs": [],
   "source": [
    "library(RSelenium)"
   ]
  },
  {
   "cell_type": "code",
   "execution_count": 2,
   "metadata": {},
   "outputs": [],
   "source": [
    "url = 'https://sucupira.capes.gov.br/sucupira/public/consultas/coleta/trabalhoConclusao/listaTrabalhoConclusao.xhtml'"
   ]
  },
  {
   "cell_type": "code",
   "execution_count": null,
   "metadata": {},
   "outputs": [],
   "source": [
    "# start a chrome browser\n",
    "rD = rsDriver(browser = \"chrome\", port = 4444L, geckover = NULL, \n",
    "               chromever =  \"85.0.4183.83\", iedrver = NULL, phantomver = NULL)"
   ]
  },
  {
   "cell_type": "code",
   "execution_count": 4,
   "metadata": {},
   "outputs": [],
   "source": [
    "remDr = rD$client \n",
    "remDr$navigate(url)"
   ]
  },
  {
   "cell_type": "code",
   "execution_count": null,
   "metadata": {},
   "outputs": [],
   "source": [
    "source('web-scraping-rselenium.R')"
   ]
  },
  {
   "cell_type": "code",
   "execution_count": 6,
   "metadata": {},
   "outputs": [],
   "source": [
    "#Funcao gera.dataset implementada no arquivo web-scraping-rselenium.R\n",
    "dados.pgcomp.chrome = gera.dataset()"
   ]
  },
  {
   "cell_type": "markdown",
   "metadata": {},
   "source": [
    "<h2 style=\"color:slateblue;font-family:courier;\">Tables HTML convertidas em um único data.frame resultante das consultas realizadas:</h2>"
   ]
  },
  {
   "cell_type": "code",
   "execution_count": 7,
   "metadata": {},
   "outputs": [
    {
     "data": {
      "text/html": [
       "<table>\n",
       "<caption>A data.frame: 6 × 5</caption>\n",
       "<thead>\n",
       "\t<tr><th></th><th scope=col>NM_PRODUCAO</th><th scope=col>NM_DISCENTE</th><th scope=col>NM_SUBTIPO_PRODUCAO</th><th scope=col>DT_TITULACAO</th><th scope=col>AN_BASE</th></tr>\n",
       "\t<tr><th></th><th scope=col>&lt;chr&gt;</th><th scope=col>&lt;chr&gt;</th><th scope=col>&lt;chr&gt;</th><th scope=col>&lt;date&gt;</th><th scope=col>&lt;dbl&gt;</th></tr>\n",
       "</thead>\n",
       "<tbody>\n",
       "\t<tr><th scope=row>1</th><td>PLAR - UMA TECNICA PARA RECUPERAÇÃO DE ARQUITETURA DE LINHAS DE PRODUTO DE SOFTWARE                                                                       </td><td>MATEUS PASSOS SOARES CARDOSO  </td><td>DISSERTAÇÃO</td><td>2017-03-14</td><td>2017</td></tr>\n",
       "\t<tr><th scope=row>2</th><td>iSim: uma estratégia de agrupamento de usuários para descarregamento de dados em Redes Móveis Centradas na informação                                     </td><td>ADRIANA VIRIATO RIBEIRO       </td><td>DISSERTAÇÃO</td><td>2017-07-10</td><td>2017</td></tr>\n",
       "\t<tr><th scope=row>3</th><td>Predição do Desfecho Clínico por Leptospirose Baseado na Análise de Expressão Gênica em Casos Hospitalizados                                              </td><td>NIVISON RUY ROCHA NERY JUNIOR </td><td>DISSERTAÇÃO</td><td>2017-05-09</td><td>2017</td></tr>\n",
       "\t<tr><th scope=row>4</th><td>Fusão de Imagens 2d, 3d e Nir para Autenticação Facial Contínua utilizando Sensores de Baixo Custo                                                        </td><td>LEONE DA SILVA DE JESUS       </td><td>DISSERTAÇÃO</td><td>2017-09-15</td><td>2017</td></tr>\n",
       "\t<tr><th scope=row>5</th><td>Procedimentos didáticos em Computação e sua relação com as características psicológicas dos estudantes: uma investigação no ensino de Teoria da Computação</td><td>ICARO ANDRADE SOUZA           </td><td>DISSERTAÇÃO</td><td>2017-09-22</td><td>2017</td></tr>\n",
       "\t<tr><th scope=row>6</th><td>BlinGui: Sistema Vestível de Detecção de Obstáculos Estáticos para Apoiar a Locomoção de Portadores de Deficiência Visual                                 </td><td>ELIDIANE PEREIRA DO NASCIMENTO</td><td>DISSERTAÇÃO</td><td>2017-10-11</td><td>2017</td></tr>\n",
       "</tbody>\n",
       "</table>\n"
      ],
      "text/latex": [
       "A data.frame: 6 × 5\n",
       "\\begin{tabular}{r|lllll}\n",
       "  & NM\\_PRODUCAO & NM\\_DISCENTE & NM\\_SUBTIPO\\_PRODUCAO & DT\\_TITULACAO & AN\\_BASE\\\\\n",
       "  & <chr> & <chr> & <chr> & <date> & <dbl>\\\\\n",
       "\\hline\n",
       "\t1 & PLAR - UMA TECNICA PARA RECUPERAÇÃO DE ARQUITETURA DE LINHAS DE PRODUTO DE SOFTWARE                                                                        & MATEUS PASSOS SOARES CARDOSO   & DISSERTAÇÃO & 2017-03-14 & 2017\\\\\n",
       "\t2 & iSim: uma estratégia de agrupamento de usuários para descarregamento de dados em Redes Móveis Centradas na informação                                      & ADRIANA VIRIATO RIBEIRO        & DISSERTAÇÃO & 2017-07-10 & 2017\\\\\n",
       "\t3 & Predição do Desfecho Clínico por Leptospirose Baseado na Análise de Expressão Gênica em Casos Hospitalizados                                               & NIVISON RUY ROCHA NERY JUNIOR  & DISSERTAÇÃO & 2017-05-09 & 2017\\\\\n",
       "\t4 & Fusão de Imagens 2d, 3d e Nir para Autenticação Facial Contínua utilizando Sensores de Baixo Custo                                                         & LEONE DA SILVA DE JESUS        & DISSERTAÇÃO & 2017-09-15 & 2017\\\\\n",
       "\t5 & Procedimentos didáticos em Computação e sua relação com as características psicológicas dos estudantes: uma investigação no ensino de Teoria da Computação & ICARO ANDRADE SOUZA            & DISSERTAÇÃO & 2017-09-22 & 2017\\\\\n",
       "\t6 & BlinGui: Sistema Vestível de Detecção de Obstáculos Estáticos para Apoiar a Locomoção de Portadores de Deficiência Visual                                  & ELIDIANE PEREIRA DO NASCIMENTO & DISSERTAÇÃO & 2017-10-11 & 2017\\\\\n",
       "\\end{tabular}\n"
      ],
      "text/markdown": [
       "\n",
       "A data.frame: 6 × 5\n",
       "\n",
       "| <!--/--> | NM_PRODUCAO &lt;chr&gt; | NM_DISCENTE &lt;chr&gt; | NM_SUBTIPO_PRODUCAO &lt;chr&gt; | DT_TITULACAO &lt;date&gt; | AN_BASE &lt;dbl&gt; |\n",
       "|---|---|---|---|---|---|\n",
       "| 1 | PLAR - UMA TECNICA PARA RECUPERAÇÃO DE ARQUITETURA DE LINHAS DE PRODUTO DE SOFTWARE                                                                        | MATEUS PASSOS SOARES CARDOSO   | DISSERTAÇÃO | 2017-03-14 | 2017 |\n",
       "| 2 | iSim: uma estratégia de agrupamento de usuários para descarregamento de dados em Redes Móveis Centradas na informação                                      | ADRIANA VIRIATO RIBEIRO        | DISSERTAÇÃO | 2017-07-10 | 2017 |\n",
       "| 3 | Predição do Desfecho Clínico por Leptospirose Baseado na Análise de Expressão Gênica em Casos Hospitalizados                                               | NIVISON RUY ROCHA NERY JUNIOR  | DISSERTAÇÃO | 2017-05-09 | 2017 |\n",
       "| 4 | Fusão de Imagens 2d, 3d e Nir para Autenticação Facial Contínua utilizando Sensores de Baixo Custo                                                         | LEONE DA SILVA DE JESUS        | DISSERTAÇÃO | 2017-09-15 | 2017 |\n",
       "| 5 | Procedimentos didáticos em Computação e sua relação com as características psicológicas dos estudantes: uma investigação no ensino de Teoria da Computação | ICARO ANDRADE SOUZA            | DISSERTAÇÃO | 2017-09-22 | 2017 |\n",
       "| 6 | BlinGui: Sistema Vestível de Detecção de Obstáculos Estáticos para Apoiar a Locomoção de Portadores de Deficiência Visual                                  | ELIDIANE PEREIRA DO NASCIMENTO | DISSERTAÇÃO | 2017-10-11 | 2017 |\n",
       "\n"
      ],
      "text/plain": [
       "  NM_PRODUCAO                                                                                                                                               \n",
       "1 PLAR - UMA TECNICA PARA RECUPERAÇÃO DE ARQUITETURA DE LINHAS DE PRODUTO DE SOFTWARE                                                                       \n",
       "2 iSim: uma estratégia de agrupamento de usuários para descarregamento de dados em Redes Móveis Centradas na informação                                     \n",
       "3 Predição do Desfecho Clínico por Leptospirose Baseado na Análise de Expressão Gênica em Casos Hospitalizados                                              \n",
       "4 Fusão de Imagens 2d, 3d e Nir para Autenticação Facial Contínua utilizando Sensores de Baixo Custo                                                        \n",
       "5 Procedimentos didáticos em Computação e sua relação com as características psicológicas dos estudantes: uma investigação no ensino de Teoria da Computação\n",
       "6 BlinGui: Sistema Vestível de Detecção de Obstáculos Estáticos para Apoiar a Locomoção de Portadores de Deficiência Visual                                 \n",
       "  NM_DISCENTE                    NM_SUBTIPO_PRODUCAO DT_TITULACAO AN_BASE\n",
       "1 MATEUS PASSOS SOARES CARDOSO   DISSERTAÇÃO         2017-03-14   2017   \n",
       "2 ADRIANA VIRIATO RIBEIRO        DISSERTAÇÃO         2017-07-10   2017   \n",
       "3 NIVISON RUY ROCHA NERY JUNIOR  DISSERTAÇÃO         2017-05-09   2017   \n",
       "4 LEONE DA SILVA DE JESUS        DISSERTAÇÃO         2017-09-15   2017   \n",
       "5 ICARO ANDRADE SOUZA            DISSERTAÇÃO         2017-09-22   2017   \n",
       "6 ELIDIANE PEREIRA DO NASCIMENTO DISSERTAÇÃO         2017-10-11   2017   "
      ]
     },
     "metadata": {},
     "output_type": "display_data"
    }
   ],
   "source": [
    "head(dados.pgcomp.chrome)"
   ]
  },
  {
   "cell_type": "code",
   "execution_count": null,
   "metadata": {},
   "outputs": [],
   "source": [
    "# stop the selenium server\n",
    "rD$server$stop()"
   ]
  }
 ],
 "metadata": {
  "kernelspec": {
   "display_name": "R",
   "language": "R",
   "name": "ir"
  },
  "language_info": {
   "codemirror_mode": "r",
   "file_extension": ".r",
   "mimetype": "text/x-r-source",
   "name": "R",
   "pygments_lexer": "r",
   "version": "4.0.2"
  }
 },
 "nbformat": 4,
 "nbformat_minor": 4
}
