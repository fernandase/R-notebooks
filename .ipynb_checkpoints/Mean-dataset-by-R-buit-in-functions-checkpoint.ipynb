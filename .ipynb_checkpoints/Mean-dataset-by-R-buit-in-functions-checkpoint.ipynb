{
 "cells": [
  {
   "cell_type": "markdown",
   "metadata": {},
   "source": [
    "# Different ways and time required to calculate mean of a dataset with R buit-in functions"
   ]
  },
  {
   "cell_type": "code",
   "execution_count": 20,
   "metadata": {},
   "outputs": [],
   "source": [
    "mean_dataset_1 = function(X){\n",
    "    v_mean = c()\n",
    "    for (i in 1:ncol(X)){\n",
    "        v_mean[i] = mean(X[, i])\n",
    "    }\n",
    "    names(v_mean) = names(X)\n",
    "    v_mean\n",
    "}"
   ]
  },
  {
   "cell_type": "code",
   "execution_count": 21,
   "metadata": {},
   "outputs": [],
   "source": [
    "mean_dataset_2 = function(X){\n",
    "    v_mean = c()\n",
    "    for (i in 1:ncol(X)){\n",
    "        v_mean[i] = sum(X[, i])/nrow(X)\n",
    "    }\n",
    "    names(v_mean) = names(X)\n",
    "    v_mean\n",
    "}"
   ]
  },
  {
   "cell_type": "code",
   "execution_count": null,
   "metadata": {},
   "outputs": [],
   "source": [
    "comSums(X)/nrow(X)"
   ]
  },
  {
   "cell_type": "markdown",
   "metadata": {},
   "source": [
    "## Time required to compute each function"
   ]
  },
  {
   "cell_type": "markdown",
   "metadata": {},
   "source": [
    "### Using the rbenchmark package"
   ]
  },
  {
   "cell_type": "code",
   "execution_count": 18,
   "metadata": {},
   "outputs": [],
   "source": [
    "#install.packages(\"rbenchmark\")\n",
    "library(rbenchmark)"
   ]
  },
  {
   "cell_type": "code",
   "execution_count": 31,
   "metadata": {},
   "outputs": [],
   "source": [
    "time_required = function(X){\n",
    "    out = list()\n",
    "    time = benchmark(\"colMeans\" = {\n",
    "            out$colmeans = colMeans(X)\n",
    "          },\n",
    "          \"apply\" = {\n",
    "            out$apply = apply(X, 2, mean)\n",
    "          },\n",
    "          \"mean_dataset_1\" = {\n",
    "            out$mean1 = mean_dataset_1(X)\n",
    "          },\n",
    "          \"mean_dataset_2\" = {\n",
    "            out$mean2 = mean_dataset_2(X)\n",
    "          },\n",
    "          replications = 1000,\n",
    "          columns = c(\"test\", \"replications\", \"elapsed\",\n",
    "                      \"relative\", \"user.self\", \"sys.self\"))\n",
    "    out$time = time[order(time$elapsed), ]\n",
    "    out\n",
    "}    "
   ]
  },
  {
   "cell_type": "code",
   "execution_count": 34,
   "metadata": {},
   "outputs": [],
   "source": [
    "data(\"iris\")\n",
    "iris = iris[, -5]"
   ]
  },
  {
   "cell_type": "code",
   "execution_count": 37,
   "metadata": {},
   "outputs": [
    {
     "data": {
      "text/html": [
       "<table>\n",
       "<thead><tr><th></th><th scope=col>test</th><th scope=col>replications</th><th scope=col>elapsed</th><th scope=col>relative</th><th scope=col>user.self</th><th scope=col>sys.self</th></tr></thead>\n",
       "<tbody>\n",
       "\t<tr><th scope=row>4</th><td>mean_dataset_2</td><td>1000          </td><td>0.04          </td><td>1.00          </td><td>0.05          </td><td>0             </td></tr>\n",
       "\t<tr><th scope=row>3</th><td>mean_dataset_1</td><td>1000          </td><td>0.05          </td><td>1.25          </td><td>0.05          </td><td>0             </td></tr>\n",
       "\t<tr><th scope=row>1</th><td>colMeans      </td><td>1000          </td><td>0.06          </td><td>1.50          </td><td>0.06          </td><td>0             </td></tr>\n",
       "\t<tr><th scope=row>2</th><td>apply         </td><td>1000          </td><td>0.10          </td><td>2.50          </td><td>0.09          </td><td>0             </td></tr>\n",
       "</tbody>\n",
       "</table>\n"
      ],
      "text/latex": [
       "\\begin{tabular}{r|llllll}\n",
       "  & test & replications & elapsed & relative & user.self & sys.self\\\\\n",
       "\\hline\n",
       "\t4 & mean\\_dataset\\_2 & 1000               & 0.04               & 1.00               & 0.05               & 0                 \\\\\n",
       "\t3 & mean\\_dataset\\_1 & 1000               & 0.05               & 1.25               & 0.05               & 0                 \\\\\n",
       "\t1 & colMeans       & 1000           & 0.06           & 1.50           & 0.06           & 0             \\\\\n",
       "\t2 & apply          & 1000           & 0.10           & 2.50           & 0.09           & 0             \\\\\n",
       "\\end{tabular}\n"
      ],
      "text/markdown": [
       "\n",
       "| <!--/--> | test | replications | elapsed | relative | user.self | sys.self |\n",
       "|---|---|---|---|---|---|---|\n",
       "| 4 | mean_dataset_2 | 1000           | 0.04           | 1.00           | 0.05           | 0              |\n",
       "| 3 | mean_dataset_1 | 1000           | 0.05           | 1.25           | 0.05           | 0              |\n",
       "| 1 | colMeans       | 1000           | 0.06           | 1.50           | 0.06           | 0              |\n",
       "| 2 | apply          | 1000           | 0.10           | 2.50           | 0.09           | 0              |\n",
       "\n"
      ],
      "text/plain": [
       "  test           replications elapsed relative user.self sys.self\n",
       "4 mean_dataset_2 1000         0.04    1.00     0.05      0       \n",
       "3 mean_dataset_1 1000         0.05    1.25     0.05      0       \n",
       "1 colMeans       1000         0.06    1.50     0.06      0       \n",
       "2 apply          1000         0.10    2.50     0.09      0       "
      ]
     },
     "metadata": {},
     "output_type": "display_data"
    }
   ],
   "source": [
    "result = time_required(iris)\n",
    "result$time"
   ]
  },
  {
   "cell_type": "code",
   "execution_count": 38,
   "metadata": {},
   "outputs": [
    {
     "data": {
      "text/html": [
       "<dl class=dl-horizontal>\n",
       "\t<dt>Sepal.Length</dt>\n",
       "\t\t<dd>5.84333333333333</dd>\n",
       "\t<dt>Sepal.Width</dt>\n",
       "\t\t<dd>3.05733333333333</dd>\n",
       "\t<dt>Petal.Length</dt>\n",
       "\t\t<dd>3.758</dd>\n",
       "\t<dt>Petal.Width</dt>\n",
       "\t\t<dd>1.19933333333333</dd>\n",
       "</dl>\n"
      ],
      "text/latex": [
       "\\begin{description*}\n",
       "\\item[Sepal.Length] 5.84333333333333\n",
       "\\item[Sepal.Width] 3.05733333333333\n",
       "\\item[Petal.Length] 3.758\n",
       "\\item[Petal.Width] 1.19933333333333\n",
       "\\end{description*}\n"
      ],
      "text/markdown": [
       "Sepal.Length\n",
       ":   5.84333333333333Sepal.Width\n",
       ":   3.05733333333333Petal.Length\n",
       ":   3.758Petal.Width\n",
       ":   1.19933333333333\n",
       "\n"
      ],
      "text/plain": [
       "Sepal.Length  Sepal.Width Petal.Length  Petal.Width \n",
       "    5.843333     3.057333     3.758000     1.199333 "
      ]
     },
     "metadata": {},
     "output_type": "display_data"
    }
   ],
   "source": [
    "result$colmeans"
   ]
  },
  {
   "cell_type": "code",
   "execution_count": 4,
   "metadata": {},
   "outputs": [],
   "source": [
    "wine.uci = read.csv(\"https://archive.ics.uci.edu/ml/machine-learning-databases/wine/wine.data\",\n",
    "              header = FALSE)"
   ]
  },
  {
   "cell_type": "code",
   "execution_count": 9,
   "metadata": {},
   "outputs": [],
   "source": [
    "wine.uci = wine.uci[,-1]"
   ]
  },
  {
   "cell_type": "code",
   "execution_count": 40,
   "metadata": {},
   "outputs": [
    {
     "data": {
      "text/html": [
       "<table>\n",
       "<thead><tr><th></th><th scope=col>test</th><th scope=col>replications</th><th scope=col>elapsed</th><th scope=col>relative</th><th scope=col>user.self</th><th scope=col>sys.self</th></tr></thead>\n",
       "<tbody>\n",
       "\t<tr><th scope=row>1</th><td>colMeans      </td><td>1000          </td><td>0.11          </td><td>1.000         </td><td>0.11          </td><td>0             </td></tr>\n",
       "\t<tr><th scope=row>4</th><td>mean_dataset_2</td><td>1000          </td><td>0.13          </td><td>1.182         </td><td>0.13          </td><td>0             </td></tr>\n",
       "\t<tr><th scope=row>3</th><td>mean_dataset_1</td><td>1000          </td><td>0.14          </td><td>1.273         </td><td>0.14          </td><td>0             </td></tr>\n",
       "\t<tr><th scope=row>2</th><td>apply         </td><td>1000          </td><td>0.19          </td><td>1.727         </td><td>0.19          </td><td>0             </td></tr>\n",
       "</tbody>\n",
       "</table>\n"
      ],
      "text/latex": [
       "\\begin{tabular}{r|llllll}\n",
       "  & test & replications & elapsed & relative & user.self & sys.self\\\\\n",
       "\\hline\n",
       "\t1 & colMeans       & 1000           & 0.11           & 1.000          & 0.11           & 0             \\\\\n",
       "\t4 & mean\\_dataset\\_2 & 1000               & 0.13               & 1.182              & 0.13               & 0                 \\\\\n",
       "\t3 & mean\\_dataset\\_1 & 1000               & 0.14               & 1.273              & 0.14               & 0                 \\\\\n",
       "\t2 & apply          & 1000           & 0.19           & 1.727          & 0.19           & 0             \\\\\n",
       "\\end{tabular}\n"
      ],
      "text/markdown": [
       "\n",
       "| <!--/--> | test | replications | elapsed | relative | user.self | sys.self |\n",
       "|---|---|---|---|---|---|---|\n",
       "| 1 | colMeans       | 1000           | 0.11           | 1.000          | 0.11           | 0              |\n",
       "| 4 | mean_dataset_2 | 1000           | 0.13           | 1.182          | 0.13           | 0              |\n",
       "| 3 | mean_dataset_1 | 1000           | 0.14           | 1.273          | 0.14           | 0              |\n",
       "| 2 | apply          | 1000           | 0.19           | 1.727          | 0.19           | 0              |\n",
       "\n"
      ],
      "text/plain": [
       "  test           replications elapsed relative user.self sys.self\n",
       "1 colMeans       1000         0.11    1.000    0.11      0       \n",
       "4 mean_dataset_2 1000         0.13    1.182    0.13      0       \n",
       "3 mean_dataset_1 1000         0.14    1.273    0.14      0       \n",
       "2 apply          1000         0.19    1.727    0.19      0       "
      ]
     },
     "metadata": {},
     "output_type": "display_data"
    }
   ],
   "source": [
    "time_required(wine.uci)$time"
   ]
  },
  {
   "cell_type": "code",
   "execution_count": 23,
   "metadata": {},
   "outputs": [],
   "source": [
    "breast.cancer.uci = read.csv(\"https://archive.ics.uci.edu/ml/machine-learning-databases/breast-cancer-wisconsin/wdbc.data\",\n",
    "              header = FALSE)"
   ]
  },
  {
   "cell_type": "code",
   "execution_count": 41,
   "metadata": {},
   "outputs": [
    {
     "data": {
      "text/html": [
       "<table>\n",
       "<thead><tr><th></th><th scope=col>test</th><th scope=col>replications</th><th scope=col>elapsed</th><th scope=col>relative</th><th scope=col>user.self</th><th scope=col>sys.self</th></tr></thead>\n",
       "<tbody>\n",
       "\t<tr><th scope=row>1</th><td>colMeans      </td><td>1000          </td><td>0.24          </td><td>1.000         </td><td>0.23          </td><td>0             </td></tr>\n",
       "\t<tr><th scope=row>4</th><td>mean_dataset_2</td><td>1000          </td><td>0.33          </td><td>1.375         </td><td>0.33          </td><td>0             </td></tr>\n",
       "\t<tr><th scope=row>3</th><td>mean_dataset_1</td><td>1000          </td><td>0.36          </td><td>1.500         </td><td>0.36          </td><td>0             </td></tr>\n",
       "\t<tr><th scope=row>2</th><td>apply         </td><td>1000          </td><td>0.55          </td><td>2.292         </td><td>0.55          </td><td>0             </td></tr>\n",
       "</tbody>\n",
       "</table>\n"
      ],
      "text/latex": [
       "\\begin{tabular}{r|llllll}\n",
       "  & test & replications & elapsed & relative & user.self & sys.self\\\\\n",
       "\\hline\n",
       "\t1 & colMeans       & 1000           & 0.24           & 1.000          & 0.23           & 0             \\\\\n",
       "\t4 & mean\\_dataset\\_2 & 1000               & 0.33               & 1.375              & 0.33               & 0                 \\\\\n",
       "\t3 & mean\\_dataset\\_1 & 1000               & 0.36               & 1.500              & 0.36               & 0                 \\\\\n",
       "\t2 & apply          & 1000           & 0.55           & 2.292          & 0.55           & 0             \\\\\n",
       "\\end{tabular}\n"
      ],
      "text/markdown": [
       "\n",
       "| <!--/--> | test | replications | elapsed | relative | user.self | sys.self |\n",
       "|---|---|---|---|---|---|---|\n",
       "| 1 | colMeans       | 1000           | 0.24           | 1.000          | 0.23           | 0              |\n",
       "| 4 | mean_dataset_2 | 1000           | 0.33           | 1.375          | 0.33           | 0              |\n",
       "| 3 | mean_dataset_1 | 1000           | 0.36           | 1.500          | 0.36           | 0              |\n",
       "| 2 | apply          | 1000           | 0.55           | 2.292          | 0.55           | 0              |\n",
       "\n"
      ],
      "text/plain": [
       "  test           replications elapsed relative user.self sys.self\n",
       "1 colMeans       1000         0.24    1.000    0.23      0       \n",
       "4 mean_dataset_2 1000         0.33    1.375    0.33      0       \n",
       "3 mean_dataset_1 1000         0.36    1.500    0.36      0       \n",
       "2 apply          1000         0.55    2.292    0.55      0       "
      ]
     },
     "metadata": {},
     "output_type": "display_data"
    }
   ],
   "source": [
    "time_required(breast.cancer.uci[,-2])$time"
   ]
  },
  {
   "cell_type": "markdown",
   "metadata": {},
   "source": [
    "## The colMeans and mean_dataset_2 (using sum/nrow) functions were the fastest and apply was the slowest function to return the mean of a dataset"
   ]
  }
 ],
 "metadata": {
  "kernelspec": {
   "display_name": "R",
   "language": "R",
   "name": "ir"
  },
  "language_info": {
   "codemirror_mode": "r",
   "file_extension": ".r",
   "mimetype": "text/x-r-source",
   "name": "R",
   "pygments_lexer": "r",
   "version": "3.6.1"
  }
 },
 "nbformat": 4,
 "nbformat_minor": 4
}
